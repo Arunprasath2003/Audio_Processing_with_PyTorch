{
 "cells": [
  {
   "cell_type": "code",
   "execution_count": 1,
   "id": "4f4bceec",
   "metadata": {},
   "outputs": [
    {
     "name": "stdout",
     "output_type": "stream",
     "text": [
      "Requirement already satisfied: pesq in /home/arun/.local/lib/python3.8/site-packages (0.0.4)\n",
      "Note: you may need to restart the kernel to use updated packages.\n"
     ]
    }
   ],
   "source": [
    "pip install pesq"
   ]
  },
  {
   "cell_type": "code",
   "execution_count": 2,
   "id": "72a41289",
   "metadata": {},
   "outputs": [
    {
     "name": "stdout",
     "output_type": "stream",
     "text": [
      "Requirement already satisfied: torch in /home/arun/.local/lib/python3.8/site-packages (2.1.2)\n",
      "Requirement already satisfied: fsspec in /home/arun/.local/lib/python3.8/site-packages (from torch) (2023.12.2)\n",
      "Requirement already satisfied: nvidia-cublas-cu12==12.1.3.1; platform_system == \"Linux\" and platform_machine == \"x86_64\" in /home/arun/.local/lib/python3.8/site-packages (from torch) (12.1.3.1)\n",
      "Requirement already satisfied: jinja2 in /home/arun/.local/lib/python3.8/site-packages (from torch) (3.1.1)\n",
      "Requirement already satisfied: triton==2.1.0; platform_system == \"Linux\" and platform_machine == \"x86_64\" in /home/arun/.local/lib/python3.8/site-packages (from torch) (2.1.0)\n",
      "Requirement already satisfied: networkx in /home/arun/.local/lib/python3.8/site-packages (from torch) (2.7.1)\n",
      "Requirement already satisfied: filelock in /home/arun/.local/lib/python3.8/site-packages (from torch) (3.13.1)\n",
      "Requirement already satisfied: nvidia-curand-cu12==10.3.2.106; platform_system == \"Linux\" and platform_machine == \"x86_64\" in /home/arun/.local/lib/python3.8/site-packages (from torch) (10.3.2.106)\n",
      "Requirement already satisfied: typing-extensions in /home/arun/.local/lib/python3.8/site-packages (from torch) (4.9.0)\n",
      "Requirement already satisfied: nvidia-cuda-runtime-cu12==12.1.105; platform_system == \"Linux\" and platform_machine == \"x86_64\" in /home/arun/.local/lib/python3.8/site-packages (from torch) (12.1.105)\n",
      "Requirement already satisfied: nvidia-cuda-cupti-cu12==12.1.105; platform_system == \"Linux\" and platform_machine == \"x86_64\" in /home/arun/.local/lib/python3.8/site-packages (from torch) (12.1.105)\n",
      "Requirement already satisfied: nvidia-nvtx-cu12==12.1.105; platform_system == \"Linux\" and platform_machine == \"x86_64\" in /home/arun/.local/lib/python3.8/site-packages (from torch) (12.1.105)\n",
      "Requirement already satisfied: nvidia-cusparse-cu12==12.1.0.106; platform_system == \"Linux\" and platform_machine == \"x86_64\" in /home/arun/.local/lib/python3.8/site-packages (from torch) (12.1.0.106)\n",
      "Requirement already satisfied: nvidia-nccl-cu12==2.18.1; platform_system == \"Linux\" and platform_machine == \"x86_64\" in /home/arun/.local/lib/python3.8/site-packages (from torch) (2.18.1)\n",
      "Requirement already satisfied: nvidia-cudnn-cu12==8.9.2.26; platform_system == \"Linux\" and platform_machine == \"x86_64\" in /home/arun/.local/lib/python3.8/site-packages (from torch) (8.9.2.26)\n",
      "Requirement already satisfied: nvidia-cufft-cu12==11.0.2.54; platform_system == \"Linux\" and platform_machine == \"x86_64\" in /home/arun/.local/lib/python3.8/site-packages (from torch) (11.0.2.54)\n",
      "Requirement already satisfied: sympy in /home/arun/.local/lib/python3.8/site-packages (from torch) (1.12)\n",
      "Requirement already satisfied: nvidia-cusolver-cu12==11.4.5.107; platform_system == \"Linux\" and platform_machine == \"x86_64\" in /home/arun/.local/lib/python3.8/site-packages (from torch) (11.4.5.107)\n",
      "Requirement already satisfied: nvidia-cuda-nvrtc-cu12==12.1.105; platform_system == \"Linux\" and platform_machine == \"x86_64\" in /home/arun/.local/lib/python3.8/site-packages (from torch) (12.1.105)\n",
      "Requirement already satisfied: MarkupSafe>=2.0 in /home/arun/.local/lib/python3.8/site-packages (from jinja2->torch) (2.1.1)\n",
      "Requirement already satisfied: nvidia-nvjitlink-cu12 in /home/arun/.local/lib/python3.8/site-packages (from nvidia-cusparse-cu12==12.1.0.106; platform_system == \"Linux\" and platform_machine == \"x86_64\"->torch) (12.3.101)\n",
      "Requirement already satisfied: mpmath>=0.19 in /home/arun/.local/lib/python3.8/site-packages (from sympy->torch) (1.3.0)\n",
      "Note: you may need to restart the kernel to use updated packages.\n"
     ]
    }
   ],
   "source": [
    "pip install torch"
   ]
  },
  {
   "cell_type": "code",
   "execution_count": 3,
   "id": "00434418",
   "metadata": {},
   "outputs": [
    {
     "name": "stdout",
     "output_type": "stream",
     "text": [
      "Collecting torchmetrics\n",
      "  Using cached torchmetrics-1.2.1-py3-none-any.whl (806 kB)\n",
      "Requirement already satisfied: torch>=1.8.1 in /home/arun/.local/lib/python3.8/site-packages (from torchmetrics) (2.1.2)\n",
      "Requirement already satisfied: packaging>17.1 in /home/arun/.local/lib/python3.8/site-packages (from torchmetrics) (21.3)\n",
      "Requirement already satisfied: typing-extensions; python_version < \"3.9\" in /home/arun/.local/lib/python3.8/site-packages (from torchmetrics) (4.9.0)\n",
      "Requirement already satisfied: numpy>1.20.0 in /home/arun/.local/lib/python3.8/site-packages (from torchmetrics) (1.22.3)\n",
      "Requirement already satisfied: lightning-utilities>=0.8.0 in /home/arun/.local/lib/python3.8/site-packages (from torchmetrics) (0.10.0)\n",
      "Requirement already satisfied: sympy in /home/arun/.local/lib/python3.8/site-packages (from torch>=1.8.1->torchmetrics) (1.12)\n",
      "Requirement already satisfied: nvidia-cudnn-cu12==8.9.2.26; platform_system == \"Linux\" and platform_machine == \"x86_64\" in /home/arun/.local/lib/python3.8/site-packages (from torch>=1.8.1->torchmetrics) (8.9.2.26)\n",
      "Requirement already satisfied: triton==2.1.0; platform_system == \"Linux\" and platform_machine == \"x86_64\" in /home/arun/.local/lib/python3.8/site-packages (from torch>=1.8.1->torchmetrics) (2.1.0)\n",
      "Requirement already satisfied: nvidia-cuda-cupti-cu12==12.1.105; platform_system == \"Linux\" and platform_machine == \"x86_64\" in /home/arun/.local/lib/python3.8/site-packages (from torch>=1.8.1->torchmetrics) (12.1.105)\n",
      "Requirement already satisfied: fsspec in /home/arun/.local/lib/python3.8/site-packages (from torch>=1.8.1->torchmetrics) (2023.12.2)\n",
      "Requirement already satisfied: nvidia-cusparse-cu12==12.1.0.106; platform_system == \"Linux\" and platform_machine == \"x86_64\" in /home/arun/.local/lib/python3.8/site-packages (from torch>=1.8.1->torchmetrics) (12.1.0.106)\n",
      "Requirement already satisfied: filelock in /home/arun/.local/lib/python3.8/site-packages (from torch>=1.8.1->torchmetrics) (3.13.1)\n",
      "Requirement already satisfied: nvidia-cuda-nvrtc-cu12==12.1.105; platform_system == \"Linux\" and platform_machine == \"x86_64\" in /home/arun/.local/lib/python3.8/site-packages (from torch>=1.8.1->torchmetrics) (12.1.105)\n",
      "Requirement already satisfied: jinja2 in /home/arun/.local/lib/python3.8/site-packages (from torch>=1.8.1->torchmetrics) (3.1.1)\n",
      "Requirement already satisfied: nvidia-cublas-cu12==12.1.3.1; platform_system == \"Linux\" and platform_machine == \"x86_64\" in /home/arun/.local/lib/python3.8/site-packages (from torch>=1.8.1->torchmetrics) (12.1.3.1)\n",
      "Requirement already satisfied: nvidia-nvtx-cu12==12.1.105; platform_system == \"Linux\" and platform_machine == \"x86_64\" in /home/arun/.local/lib/python3.8/site-packages (from torch>=1.8.1->torchmetrics) (12.1.105)\n",
      "Requirement already satisfied: networkx in /home/arun/.local/lib/python3.8/site-packages (from torch>=1.8.1->torchmetrics) (2.7.1)\n",
      "Requirement already satisfied: nvidia-cufft-cu12==11.0.2.54; platform_system == \"Linux\" and platform_machine == \"x86_64\" in /home/arun/.local/lib/python3.8/site-packages (from torch>=1.8.1->torchmetrics) (11.0.2.54)\n",
      "Requirement already satisfied: nvidia-curand-cu12==10.3.2.106; platform_system == \"Linux\" and platform_machine == \"x86_64\" in /home/arun/.local/lib/python3.8/site-packages (from torch>=1.8.1->torchmetrics) (10.3.2.106)\n",
      "Requirement already satisfied: nvidia-cusolver-cu12==11.4.5.107; platform_system == \"Linux\" and platform_machine == \"x86_64\" in /home/arun/.local/lib/python3.8/site-packages (from torch>=1.8.1->torchmetrics) (11.4.5.107)\n",
      "Requirement already satisfied: nvidia-nccl-cu12==2.18.1; platform_system == \"Linux\" and platform_machine == \"x86_64\" in /home/arun/.local/lib/python3.8/site-packages (from torch>=1.8.1->torchmetrics) (2.18.1)\n",
      "Requirement already satisfied: nvidia-cuda-runtime-cu12==12.1.105; platform_system == \"Linux\" and platform_machine == \"x86_64\" in /home/arun/.local/lib/python3.8/site-packages (from torch>=1.8.1->torchmetrics) (12.1.105)\n",
      "Requirement already satisfied: pyparsing!=3.0.5,>=2.0.2 in /home/arun/.local/lib/python3.8/site-packages (from packaging>17.1->torchmetrics) (3.0.7)\n",
      "Requirement already satisfied: setuptools in /usr/lib/python3/dist-packages (from lightning-utilities>=0.8.0->torchmetrics) (45.2.0)\n",
      "Requirement already satisfied: mpmath>=0.19 in /home/arun/.local/lib/python3.8/site-packages (from sympy->torch>=1.8.1->torchmetrics) (1.3.0)\n",
      "Requirement already satisfied: nvidia-nvjitlink-cu12 in /home/arun/.local/lib/python3.8/site-packages (from nvidia-cusparse-cu12==12.1.0.106; platform_system == \"Linux\" and platform_machine == \"x86_64\"->torch>=1.8.1->torchmetrics) (12.3.101)\n",
      "Requirement already satisfied: MarkupSafe>=2.0 in /home/arun/.local/lib/python3.8/site-packages (from jinja2->torch>=1.8.1->torchmetrics) (2.1.1)\n",
      "Installing collected packages: torchmetrics\n",
      "Successfully installed torchmetrics-1.2.1\n",
      "Note: you may need to restart the kernel to use updated packages.\n"
     ]
    }
   ],
   "source": [
    "pip install torchmetrics"
   ]
  },
  {
   "cell_type": "code",
   "execution_count": 4,
   "id": "482d6516",
   "metadata": {},
   "outputs": [
    {
     "name": "stdout",
     "output_type": "stream",
     "text": [
      "Collecting torchaudio\n",
      "  Using cached torchaudio-2.1.2-cp38-cp38-manylinux1_x86_64.whl (3.3 MB)\n",
      "Requirement already satisfied: torch==2.1.2 in /home/arun/.local/lib/python3.8/site-packages (from torchaudio) (2.1.2)\n",
      "Requirement already satisfied: fsspec in /home/arun/.local/lib/python3.8/site-packages (from torch==2.1.2->torchaudio) (2023.12.2)\n",
      "Requirement already satisfied: nvidia-cuda-nvrtc-cu12==12.1.105; platform_system == \"Linux\" and platform_machine == \"x86_64\" in /home/arun/.local/lib/python3.8/site-packages (from torch==2.1.2->torchaudio) (12.1.105)\n",
      "Requirement already satisfied: sympy in /home/arun/.local/lib/python3.8/site-packages (from torch==2.1.2->torchaudio) (1.12)\n",
      "Requirement already satisfied: triton==2.1.0; platform_system == \"Linux\" and platform_machine == \"x86_64\" in /home/arun/.local/lib/python3.8/site-packages (from torch==2.1.2->torchaudio) (2.1.0)\n",
      "Requirement already satisfied: nvidia-nvtx-cu12==12.1.105; platform_system == \"Linux\" and platform_machine == \"x86_64\" in /home/arun/.local/lib/python3.8/site-packages (from torch==2.1.2->torchaudio) (12.1.105)\n",
      "Requirement already satisfied: nvidia-cusparse-cu12==12.1.0.106; platform_system == \"Linux\" and platform_machine == \"x86_64\" in /home/arun/.local/lib/python3.8/site-packages (from torch==2.1.2->torchaudio) (12.1.0.106)\n",
      "Requirement already satisfied: networkx in /home/arun/.local/lib/python3.8/site-packages (from torch==2.1.2->torchaudio) (2.7.1)\n",
      "Requirement already satisfied: nvidia-cuda-cupti-cu12==12.1.105; platform_system == \"Linux\" and platform_machine == \"x86_64\" in /home/arun/.local/lib/python3.8/site-packages (from torch==2.1.2->torchaudio) (12.1.105)\n",
      "Requirement already satisfied: nvidia-nccl-cu12==2.18.1; platform_system == \"Linux\" and platform_machine == \"x86_64\" in /home/arun/.local/lib/python3.8/site-packages (from torch==2.1.2->torchaudio) (2.18.1)\n",
      "Requirement already satisfied: filelock in /home/arun/.local/lib/python3.8/site-packages (from torch==2.1.2->torchaudio) (3.13.1)\n",
      "Requirement already satisfied: nvidia-cuda-runtime-cu12==12.1.105; platform_system == \"Linux\" and platform_machine == \"x86_64\" in /home/arun/.local/lib/python3.8/site-packages (from torch==2.1.2->torchaudio) (12.1.105)\n",
      "Requirement already satisfied: nvidia-cufft-cu12==11.0.2.54; platform_system == \"Linux\" and platform_machine == \"x86_64\" in /home/arun/.local/lib/python3.8/site-packages (from torch==2.1.2->torchaudio) (11.0.2.54)\n",
      "Requirement already satisfied: nvidia-cusolver-cu12==11.4.5.107; platform_system == \"Linux\" and platform_machine == \"x86_64\" in /home/arun/.local/lib/python3.8/site-packages (from torch==2.1.2->torchaudio) (11.4.5.107)\n",
      "Requirement already satisfied: jinja2 in /home/arun/.local/lib/python3.8/site-packages (from torch==2.1.2->torchaudio) (3.1.1)\n",
      "Requirement already satisfied: typing-extensions in /home/arun/.local/lib/python3.8/site-packages (from torch==2.1.2->torchaudio) (4.9.0)\n",
      "Requirement already satisfied: nvidia-cudnn-cu12==8.9.2.26; platform_system == \"Linux\" and platform_machine == \"x86_64\" in /home/arun/.local/lib/python3.8/site-packages (from torch==2.1.2->torchaudio) (8.9.2.26)\n",
      "Requirement already satisfied: nvidia-curand-cu12==10.3.2.106; platform_system == \"Linux\" and platform_machine == \"x86_64\" in /home/arun/.local/lib/python3.8/site-packages (from torch==2.1.2->torchaudio) (10.3.2.106)\n",
      "Requirement already satisfied: nvidia-cublas-cu12==12.1.3.1; platform_system == \"Linux\" and platform_machine == \"x86_64\" in /home/arun/.local/lib/python3.8/site-packages (from torch==2.1.2->torchaudio) (12.1.3.1)\n",
      "Requirement already satisfied: mpmath>=0.19 in /home/arun/.local/lib/python3.8/site-packages (from sympy->torch==2.1.2->torchaudio) (1.3.0)\n",
      "Requirement already satisfied: nvidia-nvjitlink-cu12 in /home/arun/.local/lib/python3.8/site-packages (from nvidia-cusparse-cu12==12.1.0.106; platform_system == \"Linux\" and platform_machine == \"x86_64\"->torch==2.1.2->torchaudio) (12.3.101)\n",
      "Requirement already satisfied: MarkupSafe>=2.0 in /home/arun/.local/lib/python3.8/site-packages (from jinja2->torch==2.1.2->torchaudio) (2.1.1)\n",
      "Installing collected packages: torchaudio\n",
      "Successfully installed torchaudio-2.1.2\n",
      "Note: you may need to restart the kernel to use updated packages.\n"
     ]
    }
   ],
   "source": [
    "pip install torchaudio"
   ]
  },
  {
   "cell_type": "code",
   "execution_count": 7,
   "id": "c81429b3",
   "metadata": {},
   "outputs": [
    {
     "name": "stdout",
     "output_type": "stream",
     "text": [
      "Collecting pystoi\n",
      "  Using cached pystoi-0.4.0-py2.py3-none-any.whl (8.1 kB)\n",
      "Requirement already satisfied: scipy in /home/arun/.local/lib/python3.8/site-packages (from pystoi) (1.8.0)\n",
      "Requirement already satisfied: numpy in /home/arun/.local/lib/python3.8/site-packages (from pystoi) (1.22.3)\n",
      "Installing collected packages: pystoi\n",
      "Successfully installed pystoi-0.4.0\n",
      "Note: you may need to restart the kernel to use updated packages.\n"
     ]
    }
   ],
   "source": [
    "pip install pystoi"
   ]
  },
  {
   "cell_type": "code",
   "execution_count": 4,
   "id": "0a809458",
   "metadata": {},
   "outputs": [
    {
     "name": "stdout",
     "output_type": "stream",
     "text": [
      "Mean Squared Error (MSE): 0.6627382040023804\n",
      "PESQ Score (NB): 2.2076363563537598\n",
      "PESQ Score (WB): 1.7359119653701782\n",
      "STOI Score:  tensor(-0.0102)\n"
     ]
    },
    {
     "data": {
      "image/png": "[encoded data removed]",
      "text/plain": [
       "<Figure size 864x288 with 2 Axes>"
      ]
     },
     "metadata": {
      "needs_background": "light"
     },
     "output_type": "display_data"
    }
   ],
   "source": [
    "import torchaudio\n",
    "import torch\n",
    "import torchmetrics\n",
    "import matplotlib.pyplot as plt\n",
    "from torch import randn\n",
    "from torchmetrics.functional.audio.pesq import perceptual_evaluation_speech_quality\n",
    "from torchaudio.utils import download_asset\n",
    "from pystoi.stoi import stoi\n",
    "from torchmetrics.audio import ShortTimeObjectiveIntelligibility\n",
    "\n",
    "class AudioProcessor:\n",
    "    def __init__(self):\n",
    "        pass \n",
    "\n",
    "    def load_and_resample_audio(self, file_path, target_sample_rate):\n",
    "        \"\"\"\n",
    "        Load an audio file, resample it to the target sample rate, and return the resampled waveform.\n",
    "\n",
    "        Args:\n",
    "            file_path (str): Path to the audio file.\n",
    "            target_sample_rate (int): Target sample rate for resampling.\n",
    "\n",
    "        Returns:\n",
    "            torch.Tensor: Resampled audio waveform.\n",
    "            int: Target sample rate.\n",
    "        \"\"\"\n",
    "        waveform, original_sample_rate = torchaudio.load(file_path)\n",
    "        resampler = torchaudio.transforms.Resample(original_sample_rate, target_sample_rate)\n",
    "        resampled_waveform = resampler(waveform)\n",
    "        return resampled_waveform, target_sample_rate\n",
    "\n",
    "    def compute_stft(self, audio_waveform, sample_rate, n_fft=400, hop_length=160, win_length=400):\n",
    "        \"\"\"\n",
    "        Compute the Short-Time Fourier Transform (STFT) of an audio waveform.\n",
    "\n",
    "        Args:\n",
    "            audio_waveform (torch.Tensor): Input audio waveform.\n",
    "            sample_rate (int): Sample rate of the input audio.\n",
    "            n_fft (int): Size of the FFT.\n",
    "            hop_length (int): Number of samples between successive frames.\n",
    "            win_length (int): Size of the window function.\n",
    "\n",
    "        Returns:\n",
    "            torch.Tensor: Magnitude of the STFT.\n",
    "            torch.Tensor: Phase of the STFT.\n",
    "        \"\"\"\n",
    "        stft_transform = torchaudio.transforms.Spectrogram(n_fft=n_fft, hop_length=hop_length, win_length=win_length)\n",
    "        spectrogram = stft_transform(audio_waveform)\n",
    "        magnitude = torch.abs(spectrogram)\n",
    "        phase = torch.angle(spectrogram)\n",
    "        return magnitude, phase\n",
    "\n",
    "    def compute_istft(self, magnitude, phase, sample_rate, n_fft=400, hop_length=160, win_length=400):\n",
    "        \"\"\"\n",
    "        Compute the Inverse Short-Time Fourier Transform (ISTFT) to reconstruct audio waveform.\n",
    "\n",
    "        Args:\n",
    "            magnitude (torch.Tensor): Magnitude of the STFT.\n",
    "            phase (torch.Tensor): Phase of the STFT.\n",
    "            sample_rate (int): Sample rate of the audio waveform.\n",
    "            n_fft (int): Size of the FFT.\n",
    "            hop_length (int): Number of samples between successive frames.\n",
    "            win_length (int): Size of the window function.\n",
    "\n",
    "        Returns:\n",
    "            torch.Tensor: Reconstructed audio waveform.\n",
    "        \"\"\"\n",
    "        spectrogram_complex = magnitude * torch.exp(1j * phase)\n",
    "        reconstructed_waveform = torch.istft(\n",
    "            spectrogram_complex, \n",
    "            n_fft=n_fft, \n",
    "            hop_length=hop_length, \n",
    "            win_length=win_length, \n",
    "            window=torch.hann_window(win_length),\n",
    "            center=True\n",
    "        )\n",
    "        return reconstructed_waveform\n",
    "\n",
    "    def compare_audio(self, original_waveform, result_waveform):\n",
    "        \"\"\"\n",
    "        Compare original and reconstructed audio waveforms using Mean Squared Error (MSE).\n",
    "\n",
    "        Args:\n",
    "            original_waveform (torch.Tensor): Original audio waveform.\n",
    "            result_waveform (torch.Tensor): Reconstructed audio waveform.\n",
    "        \"\"\"\n",
    "        assert original_waveform.shape == result_waveform.shape, \"Shapes of original and result waveforms must be the same.\"\n",
    "        mse_loss = torch.nn.MSELoss()\n",
    "        mse = mse_loss(original_waveform, result_waveform)\n",
    "        print(f\"Mean Squared Error (MSE): {mse.item()}\")\n",
    "\n",
    "    def evaluate_audio(self, original_waveform, result_waveform, sample_rate):\n",
    "        \"\"\"\n",
    "        Evaluate audio quality using PESQ and STOI metrics.\n",
    "\n",
    "        Args:\n",
    "            original_waveform (torch.Tensor): Original audio waveform.\n",
    "            result_waveform (torch.Tensor): Reconstructed audio waveform.\n",
    "            sample_rate (int): Sample rate of the audio waveforms.\n",
    "        \"\"\"\n",
    "        g = torch.manual_seed(1)\n",
    "        preds = randn(8000)\n",
    "        target = randn(8000)\n",
    "        pesq_nb = perceptual_evaluation_speech_quality(preds, target, 8000, 'nb')\n",
    "        pesq_wb = perceptual_evaluation_speech_quality(preds, target, 16000, 'wb')\n",
    "        print(f\"PESQ Score (NB): {pesq_nb.item()}\")\n",
    "        print(f\"PESQ Score (WB): {pesq_wb.item()}\")\n",
    "        stoi = ShortTimeObjectiveIntelligibility(8000, False)\n",
    "        print(f\"STOI Score: \", stoi(preds, target))\n",
    "\n",
    "if __name__ == \"__main__\":\n",
    "    # Instantiate the AudioProcessor class\n",
    "    audio_processor = AudioProcessor()\n",
    "\n",
    "    # Sample WAV file path\n",
    "    SAMPLE_WAV = download_asset(\"tutorial-assets/Lab41-SRI-VOiCES-src-sp0307-ch127535-sg0042.wav\")\n",
    "\n",
    "    # Load and resample audio\n",
    "    resampled_waveform, target_sample_rate = audio_processor.load_and_resample_audio(SAMPLE_WAV, 48000)\n",
    "\n",
    "    # Compute STFT\n",
    "    magnitude, phase = audio_processor.compute_stft(resampled_waveform, target_sample_rate)\n",
    "\n",
    "    # Compute ISTFT\n",
    "    reconstructed_waveform = audio_processor.compute_istft(magnitude, phase, target_sample_rate)\n",
    "\n",
    "    # Compare original and result audio\n",
    "    audio_processor.compare_audio(resampled_waveform, reconstructed_waveform)\n",
    "\n",
    "    # Evaluate PESQ and STOI\n",
    "    audio_processor.evaluate_audio(resampled_waveform, reconstructed_waveform, target_sample_rate)\n",
    "\n",
    "    # Plot original and result waveforms\n",
    "    plt.figure(figsize=(12, 4))\n",
    "    plt.subplot(1, 2, 1)\n",
    "    plt.plot(resampled_waveform[0].numpy())\n",
    "    plt.title(\"Original Audio\")\n",
    "\n",
    "    plt.subplot(1, 2, 2)\n",
    "    plt.plot(reconstructed_waveform[0].numpy())\n",
    "    plt.title(\"Reconstructed Audio\")\n",
    "\n",
    "    plt.show()\n"
   ]
  },
  {
   "cell_type": "code",
   "execution_count": null,
   "id": "fdc949fc",
   "metadata": {},
   "outputs": [],
   "source": []
  }
 ],
 "metadata": {
  "kernelspec": {
   "display_name": "Python 3 (ipykernel)",
   "language": "python",
   "name": "python3"
  },
  "language_info": {
   "codemirror_mode": {
    "name": "ipython",
    "version": 3
   },
   "file_extension": ".py",
   "mimetype": "text/x-python",
   "name": "python",
   "nbconvert_exporter": "python",
   "pygments_lexer": "ipython3",
   "version": "3.8.10"
  }
 },
 "nbformat": 4,
 "nbformat_minor": 5
}
