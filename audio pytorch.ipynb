{
 "cells": [
  {
   "cell_type": "code",
   "execution_count": 3,
   "id": "4f4bceec",
   "metadata": {},
   "outputs": [
    {
     "name": "stdout",
     "output_type": "stream",
     "text": [
      "Collecting pesq\n",
      "  Using cached pesq-0.0.4.tar.gz (38 kB)\n",
      "  Preparing metadata (setup.py): started\n",
      "  Preparing metadata (setup.py): finished with status 'done'\n",
      "Building wheels for collected packages: pesq\n",
      "  Building wheel for pesq (setup.py): started\n",
      "  Building wheel for pesq (setup.py): finished with status 'error'\n",
      "  Running setup.py clean for pesq\n",
      "Failed to build pesq\n",
      "Note: you may need to restart the kernel to use updated packages.\n"
     ]
    },
    {
     "name": "stderr",
     "output_type": "stream",
     "text": [
      "  error: subprocess-exited-with-error\n",
      "  \n",
      "  python setup.py bdist_wheel did not run successfully.\n",
      "  exit code: 1\n",
      "  \n",
      "  [26 lines of output]\n",
      "  C:\\Users\\Dell\\AppData\\Local\\Programs\\Python\\Python310\\lib\\site-packages\\setuptools\\installer.py:27: SetuptoolsDeprecationWarning: setuptools.installer is deprecated. Requirements should be satisfied by a PEP 517 installer.\n",
      "    warnings.warn(\n",
      "  running bdist_wheel\n",
      "  running build\n",
      "  running build_py\n",
      "  creating build\n",
      "  creating build\\lib.win-amd64-cpython-310\n",
      "  creating build\\lib.win-amd64-cpython-310\\pesq\n",
      "  copying pesq\\_pesq.py -> build\\lib.win-amd64-cpython-310\\pesq\n",
      "  copying pesq\\__init__.py -> build\\lib.win-amd64-cpython-310\\pesq\n",
      "  copying pesq\\cypesq.pyx -> build\\lib.win-amd64-cpython-310\\pesq\n",
      "  copying pesq\\dsp.h -> build\\lib.win-amd64-cpython-310\\pesq\n",
      "  copying pesq\\pesq.h -> build\\lib.win-amd64-cpython-310\\pesq\n",
      "  copying pesq\\pesqio.h -> build\\lib.win-amd64-cpython-310\\pesq\n",
      "  copying pesq\\pesqmain.h -> build\\lib.win-amd64-cpython-310\\pesq\n",
      "  copying pesq\\pesqpar.h -> build\\lib.win-amd64-cpython-310\\pesq\n",
      "  copying pesq\\dsp.c -> build\\lib.win-amd64-cpython-310\\pesq\n",
      "  copying pesq\\pesqdsp.c -> build\\lib.win-amd64-cpython-310\\pesq\n",
      "  copying pesq\\pesqmod.c -> build\\lib.win-amd64-cpython-310\\pesq\n",
      "  running build_ext\n",
      "  c:\\users\\dell\\appdata\\local\\temp\\pip-install-5l56ixh_\\pesq_4415b8220e0f4a9aa99a31b0e0a02b1c\\.eggs\\cython-3.0.7-py3.10-win-amd64.egg\\Cython\\Compiler\\Main.py:381: FutureWarning: Cython directive 'language_level' not set, using '3str' for now (Py3). This has changed from earlier releases! File: C:\\Users\\Dell\\AppData\\Local\\Temp\\pip-install-5l56ixh_\\pesq_4415b8220e0f4a9aa99a31b0e0a02b1c\\pesq\\cypesq.pyx\n",
      "    tree = Parsing.p_module(s, pxd, full_module_name)\n",
      "  Compiling pesq/cypesq.pyx because it changed.\n",
      "  [1/1] Cythonizing pesq/cypesq.pyx\n",
      "  building 'cypesq' extension\n",
      "  error: Microsoft Visual C++ 14.0 or greater is required. Get it with \"Microsoft C++ Build Tools\": https://visualstudio.microsoft.com/visual-cpp-build-tools/\n",
      "  [end of output]\n",
      "  \n",
      "  note: This error originates from a subprocess, and is likely not a problem with pip.\n",
      "  ERROR: Failed building wheel for pesq\n",
      "ERROR: Could not build wheels for pesq, which is required to install pyproject.toml-based projects\n",
      "\n",
      "[notice] A new release of pip is available: 23.3.1 -> 23.3.2\n",
      "[notice] To update, run: C:\\Users\\Dell\\AppData\\Local\\Programs\\Python\\Python310\\python.exe -m pip install --upgrade pip\n"
     ]
    }
   ],
   "source": [
    "pip install pesq"
   ]
  },
  {
   "cell_type": "code",
   "execution_count": 2,
   "id": "3c7e90f1",
   "metadata": {},
   "outputs": [
    {
     "name": "stdout",
     "output_type": "stream",
     "text": [
      "Collecting torchmetrics[audio]\n",
      "  Downloading torchmetrics-1.2.1-py3-none-any.whl.metadata (20 kB)\n",
      "Requirement already satisfied: numpy>1.20.0 in c:\\users\\dell\\appdata\\local\\programs\\python\\python310\\lib\\site-packages (from torchmetrics[audio]) (1.23.4)\n",
      "Requirement already satisfied: packaging>17.1 in c:\\users\\dell\\appdata\\local\\programs\\python\\python310\\lib\\site-packages (from torchmetrics[audio]) (21.3)\n",
      "Requirement already satisfied: torch>=1.8.1 in c:\\users\\dell\\appdata\\local\\programs\\python\\python310\\lib\\site-packages (from torchmetrics[audio]) (2.1.2)\n",
      "Collecting lightning-utilities>=0.8.0 (from torchmetrics[audio])\n",
      "  Downloading lightning_utilities-0.10.0-py3-none-any.whl.metadata (4.8 kB)\n",
      "Collecting pystoi>=0.3.0 (from torchmetrics[audio])\n",
      "  Downloading pystoi-0.4.0-py2.py3-none-any.whl.metadata (3.8 kB)\n",
      "Collecting torchaudio>=0.10.0 (from torchmetrics[audio])\n",
      "  Downloading torchaudio-2.1.2-cp310-cp310-win_amd64.whl.metadata (6.4 kB)\n",
      "Requirement already satisfied: setuptools in c:\\users\\dell\\appdata\\local\\programs\\python\\python310\\lib\\site-packages (from lightning-utilities>=0.8.0->torchmetrics[audio]) (63.2.0)\n",
      "Requirement already satisfied: typing-extensions in c:\\users\\dell\\appdata\\local\\programs\\python\\python310\\lib\\site-packages (from lightning-utilities>=0.8.0->torchmetrics[audio]) (4.8.0)\n",
      "Requirement already satisfied: pyparsing!=3.0.5,>=2.0.2 in c:\\users\\dell\\appdata\\local\\programs\\python\\python310\\lib\\site-packages (from packaging>17.1->torchmetrics[audio]) (3.0.9)\n",
      "Requirement already satisfied: scipy in c:\\users\\dell\\appdata\\local\\programs\\python\\python310\\lib\\site-packages (from pystoi>=0.3.0->torchmetrics[audio]) (1.9.3)\n",
      "Requirement already satisfied: filelock in c:\\users\\dell\\appdata\\local\\programs\\python\\python310\\lib\\site-packages (from torch>=1.8.1->torchmetrics[audio]) (3.8.0)\n",
      "Requirement already satisfied: sympy in c:\\users\\dell\\appdata\\local\\programs\\python\\python310\\lib\\site-packages (from torch>=1.8.1->torchmetrics[audio]) (1.12)\n",
      "Requirement already satisfied: networkx in c:\\users\\dell\\appdata\\local\\programs\\python\\python310\\lib\\site-packages (from torch>=1.8.1->torchmetrics[audio]) (3.2.1)\n",
      "Requirement already satisfied: jinja2 in c:\\users\\dell\\appdata\\local\\programs\\python\\python310\\lib\\site-packages (from torch>=1.8.1->torchmetrics[audio]) (3.1.2)\n",
      "Requirement already satisfied: fsspec in c:\\users\\dell\\appdata\\local\\programs\\python\\python310\\lib\\site-packages (from torch>=1.8.1->torchmetrics[audio]) (2023.12.2)\n",
      "Requirement already satisfied: MarkupSafe>=2.0 in c:\\users\\dell\\appdata\\local\\programs\\python\\python310\\lib\\site-packages (from jinja2->torch>=1.8.1->torchmetrics[audio]) (2.1.1)\n",
      "Requirement already satisfied: mpmath>=0.19 in c:\\users\\dell\\appdata\\local\\programs\\python\\python310\\lib\\site-packages (from sympy->torch>=1.8.1->torchmetrics[audio]) (1.3.0)\n",
      "Downloading lightning_utilities-0.10.0-py3-none-any.whl (24 kB)\n",
      "Downloading pystoi-0.4.0-py2.py3-none-any.whl (8.1 kB)\n",
      "Downloading torchaudio-2.1.2-cp310-cp310-win_amd64.whl (2.3 MB)\n",
      "   ---------------------------------------- 2.3/2.3 MB 3.1 MB/s eta 0:00:00\n",
      "Downloading torchmetrics-1.2.1-py3-none-any.whl (806 kB)\n",
      "   ---------------------------------------- 806.1/806.1 kB 3.2 MB/s eta 0:00:00\n",
      "Installing collected packages: pystoi, lightning-utilities, torchmetrics, torchaudio\n",
      "Successfully installed lightning-utilities-0.10.0 pystoi-0.4.0 torchaudio-2.1.2 torchmetrics-1.2.1\n",
      "Note: you may need to restart the kernel to use updated packages.\n"
     ]
    },
    {
     "name": "stderr",
     "output_type": "stream",
     "text": [
      "\n",
      "[notice] A new release of pip is available: 23.3.1 -> 23.3.2\n",
      "[notice] To update, run: C:\\Users\\Dell\\AppData\\Local\\Programs\\Python\\Python310\\python.exe -m pip install --upgrade pip\n"
     ]
    }
   ],
   "source": [
    "pip install torchmetrics[audio]"
   ]
  },
  {
   "cell_type": "code",
   "execution_count": 4,
   "id": "00434418",
   "metadata": {},
   "outputs": [
    {
     "name": "stdout",
     "output_type": "stream",
     "text": [
      "Requirement already satisfied: torchmetrics in c:\\users\\dell\\appdata\\local\\programs\\python\\python310\\lib\\site-packages (1.2.1)\n",
      "Requirement already satisfied: numpy>1.20.0 in c:\\users\\dell\\appdata\\local\\programs\\python\\python310\\lib\\site-packages (from torchmetrics) (1.23.4)\n",
      "Requirement already satisfied: packaging>17.1 in c:\\users\\dell\\appdata\\local\\programs\\python\\python310\\lib\\site-packages (from torchmetrics) (21.3)\n",
      "Requirement already satisfied: torch>=1.8.1 in c:\\users\\dell\\appdata\\local\\programs\\python\\python310\\lib\\site-packages (from torchmetrics) (2.1.2)\n",
      "Requirement already satisfied: lightning-utilities>=0.8.0 in c:\\users\\dell\\appdata\\local\\programs\\python\\python310\\lib\\site-packages (from torchmetrics) (0.10.0)\n",
      "Requirement already satisfied: setuptools in c:\\users\\dell\\appdata\\local\\programs\\python\\python310\\lib\\site-packages (from lightning-utilities>=0.8.0->torchmetrics) (63.2.0)\n",
      "Requirement already satisfied: typing-extensions in c:\\users\\dell\\appdata\\local\\programs\\python\\python310\\lib\\site-packages (from lightning-utilities>=0.8.0->torchmetrics) (4.8.0)\n",
      "Requirement already satisfied: pyparsing!=3.0.5,>=2.0.2 in c:\\users\\dell\\appdata\\local\\programs\\python\\python310\\lib\\site-packages (from packaging>17.1->torchmetrics) (3.0.9)\n",
      "Requirement already satisfied: filelock in c:\\users\\dell\\appdata\\local\\programs\\python\\python310\\lib\\site-packages (from torch>=1.8.1->torchmetrics) (3.8.0)\n",
      "Requirement already satisfied: sympy in c:\\users\\dell\\appdata\\local\\programs\\python\\python310\\lib\\site-packages (from torch>=1.8.1->torchmetrics) (1.12)\n",
      "Requirement already satisfied: networkx in c:\\users\\dell\\appdata\\local\\programs\\python\\python310\\lib\\site-packages (from torch>=1.8.1->torchmetrics) (3.2.1)\n",
      "Requirement already satisfied: jinja2 in c:\\users\\dell\\appdata\\local\\programs\\python\\python310\\lib\\site-packages (from torch>=1.8.1->torchmetrics) (3.1.2)\n",
      "Requirement already satisfied: fsspec in c:\\users\\dell\\appdata\\local\\programs\\python\\python310\\lib\\site-packages (from torch>=1.8.1->torchmetrics) (2023.12.2)\n",
      "Requirement already satisfied: MarkupSafe>=2.0 in c:\\users\\dell\\appdata\\local\\programs\\python\\python310\\lib\\site-packages (from jinja2->torch>=1.8.1->torchmetrics) (2.1.1)\n",
      "Requirement already satisfied: mpmath>=0.19 in c:\\users\\dell\\appdata\\local\\programs\\python\\python310\\lib\\site-packages (from sympy->torch>=1.8.1->torchmetrics) (1.3.0)\n",
      "Note: you may need to restart the kernel to use updated packages.\n"
     ]
    },
    {
     "name": "stderr",
     "output_type": "stream",
     "text": [
      "\n",
      "[notice] A new release of pip is available: 23.3.1 -> 23.3.2\n",
      "[notice] To update, run: C:\\Users\\Dell\\AppData\\Local\\Programs\\Python\\Python310\\python.exe -m pip install --upgrade pip\n"
     ]
    }
   ],
   "source": [
    "pip install torchmetrics"
   ]
  },
  {
   "cell_type": "code",
   "execution_count": 5,
   "id": "482d6516",
   "metadata": {},
   "outputs": [
    {
     "name": "stdout",
     "output_type": "stream",
     "text": [
      "Requirement already satisfied: torchaudio in c:\\users\\dell\\appdata\\local\\programs\\python\\python310\\lib\\site-packages (2.1.2)\n",
      "Requirement already satisfied: torch==2.1.2 in c:\\users\\dell\\appdata\\local\\programs\\python\\python310\\lib\\site-packages (from torchaudio) (2.1.2)\n",
      "Requirement already satisfied: filelock in c:\\users\\dell\\appdata\\local\\programs\\python\\python310\\lib\\site-packages (from torch==2.1.2->torchaudio) (3.8.0)\n",
      "Requirement already satisfied: typing-extensions in c:\\users\\dell\\appdata\\local\\programs\\python\\python310\\lib\\site-packages (from torch==2.1.2->torchaudio) (4.8.0)\n",
      "Requirement already satisfied: sympy in c:\\users\\dell\\appdata\\local\\programs\\python\\python310\\lib\\site-packages (from torch==2.1.2->torchaudio) (1.12)\n",
      "Requirement already satisfied: networkx in c:\\users\\dell\\appdata\\local\\programs\\python\\python310\\lib\\site-packages (from torch==2.1.2->torchaudio) (3.2.1)\n",
      "Requirement already satisfied: jinja2 in c:\\users\\dell\\appdata\\local\\programs\\python\\python310\\lib\\site-packages (from torch==2.1.2->torchaudio) (3.1.2)\n",
      "Requirement already satisfied: fsspec in c:\\users\\dell\\appdata\\local\\programs\\python\\python310\\lib\\site-packages (from torch==2.1.2->torchaudio) (2023.12.2)\n",
      "Requirement already satisfied: MarkupSafe>=2.0 in c:\\users\\dell\\appdata\\local\\programs\\python\\python310\\lib\\site-packages (from jinja2->torch==2.1.2->torchaudio) (2.1.1)\n",
      "Requirement already satisfied: mpmath>=0.19 in c:\\users\\dell\\appdata\\local\\programs\\python\\python310\\lib\\site-packages (from sympy->torch==2.1.2->torchaudio) (1.3.0)\n",
      "Note: you may need to restart the kernel to use updated packages.\n"
     ]
    },
    {
     "name": "stderr",
     "output_type": "stream",
     "text": [
      "\n",
      "[notice] A new release of pip is available: 23.3.1 -> 23.3.2\n",
      "[notice] To update, run: C:\\Users\\Dell\\AppData\\Local\\Programs\\Python\\Python310\\python.exe -m pip install --upgrade pip\n"
     ]
    }
   ],
   "source": [
    "pip install torchaudio"
   ]
  },
  {
   "cell_type": "code",
   "execution_count": 7,
   "id": "0a809458",
   "metadata": {},
   "outputs": [
    {
     "name": "stderr",
     "output_type": "stream",
     "text": [
      "100%|██████████| 106k/106k [00:00<00:00, 290kB/s]  \n"
     ]
    },
    {
     "name": "stdout",
     "output_type": "stream",
     "text": [
      "Mean Squared Error (MSE): 0.6627383232116699\n"
     ]
    },
    {
     "ename": "ModuleNotFoundError",
     "evalue": "PESQ metric requires that pesq is installed. Either install as `pip install torchmetrics[audio]` or `pip install pesq`.",
     "output_type": "error",
     "traceback": [
      "\u001b[1;31m---------------------------------------------------------------------------\u001b[0m",
      "\u001b[1;31mModuleNotFoundError\u001b[0m                       Traceback (most recent call last)",
      "Cell \u001b[1;32mIn [7], line 86\u001b[0m\n\u001b[0;32m     83\u001b[0m compare_audio(resampled_waveform, reconstructed_waveform)\n\u001b[0;32m     85\u001b[0m \u001b[38;5;66;03m# Evaluate PESQ and STOI\u001b[39;00m\n\u001b[1;32m---> 86\u001b[0m \u001b[43mevaluate_audio\u001b[49m\u001b[43m(\u001b[49m\u001b[43mresampled_waveform\u001b[49m\u001b[43m,\u001b[49m\u001b[43m \u001b[49m\u001b[43mreconstructed_waveform\u001b[49m\u001b[43m,\u001b[49m\u001b[43m \u001b[49m\u001b[43mtarget_sample_rate\u001b[49m\u001b[43m)\u001b[49m\n\u001b[0;32m     88\u001b[0m \u001b[38;5;66;03m# Plot original and result waveforms\u001b[39;00m\n\u001b[0;32m     89\u001b[0m plt\u001b[38;5;241m.\u001b[39mfigure(figsize\u001b[38;5;241m=\u001b[39m(\u001b[38;5;241m12\u001b[39m, \u001b[38;5;241m4\u001b[39m))\n",
      "Cell \u001b[1;32mIn [7], line 60\u001b[0m, in \u001b[0;36mevaluate_audio\u001b[1;34m(original_waveform, result_waveform, sample_rate)\u001b[0m\n\u001b[0;32m     57\u001b[0m target \u001b[38;5;241m=\u001b[39m randn(\u001b[38;5;241m8000\u001b[39m)\n\u001b[0;32m     59\u001b[0m \u001b[38;5;66;03m# Compute PESQ scores\u001b[39;00m\n\u001b[1;32m---> 60\u001b[0m pesq_nb \u001b[38;5;241m=\u001b[39m \u001b[43mperceptual_evaluation_speech_quality\u001b[49m\u001b[43m(\u001b[49m\u001b[43mpreds\u001b[49m\u001b[43m,\u001b[49m\u001b[43m \u001b[49m\u001b[43mtarget\u001b[49m\u001b[43m,\u001b[49m\u001b[43m \u001b[49m\u001b[38;5;241;43m8000\u001b[39;49m\u001b[43m,\u001b[49m\u001b[43m \u001b[49m\u001b[38;5;124;43m'\u001b[39;49m\u001b[38;5;124;43mnb\u001b[39;49m\u001b[38;5;124;43m'\u001b[39;49m\u001b[43m)\u001b[49m\n\u001b[0;32m     61\u001b[0m pesq_wb \u001b[38;5;241m=\u001b[39m perceptual_evaluation_speech_quality(preds, target, \u001b[38;5;241m16000\u001b[39m, \u001b[38;5;124m'\u001b[39m\u001b[38;5;124mwb\u001b[39m\u001b[38;5;124m'\u001b[39m)\n\u001b[0;32m     63\u001b[0m \u001b[38;5;28mprint\u001b[39m(\u001b[38;5;124mf\u001b[39m\u001b[38;5;124m\"\u001b[39m\u001b[38;5;124mPESQ Score (NB): \u001b[39m\u001b[38;5;132;01m{\u001b[39;00mpesq_nb\u001b[38;5;241m.\u001b[39mitem()\u001b[38;5;132;01m}\u001b[39;00m\u001b[38;5;124m\"\u001b[39m)     \n",
      "File \u001b[1;32m~\\AppData\\Local\\Programs\\Python\\Python310\\lib\\site-packages\\torchmetrics\\functional\\audio\\pesq.py:81\u001b[0m, in \u001b[0;36mperceptual_evaluation_speech_quality\u001b[1;34m(preds, target, fs, mode, keep_same_device, n_processes)\u001b[0m\n\u001b[0;32m     32\u001b[0m \u001b[38;5;124mr\u001b[39m\u001b[38;5;124;03m\"\"\"Calculate `Perceptual Evaluation of Speech Quality`_ (PESQ).\u001b[39;00m\n\u001b[0;32m     33\u001b[0m \n\u001b[0;32m     34\u001b[0m \u001b[38;5;124;03mIt's a recognized industry standard for audio quality that takes into considerations characteristics such as: audio\u001b[39;00m\n\u001b[1;32m   (...)\u001b[0m\n\u001b[0;32m     78\u001b[0m \n\u001b[0;32m     79\u001b[0m \u001b[38;5;124;03m\"\"\"\u001b[39;00m\n\u001b[0;32m     80\u001b[0m \u001b[38;5;28;01mif\u001b[39;00m \u001b[38;5;129;01mnot\u001b[39;00m _PESQ_AVAILABLE:\n\u001b[1;32m---> 81\u001b[0m     \u001b[38;5;28;01mraise\u001b[39;00m \u001b[38;5;167;01mModuleNotFoundError\u001b[39;00m(\n\u001b[0;32m     82\u001b[0m         \u001b[38;5;124m\"\u001b[39m\u001b[38;5;124mPESQ metric requires that pesq is installed.\u001b[39m\u001b[38;5;124m\"\u001b[39m\n\u001b[0;32m     83\u001b[0m         \u001b[38;5;124m\"\u001b[39m\u001b[38;5;124m Either install as `pip install torchmetrics[audio]` or `pip install pesq`.\u001b[39m\u001b[38;5;124m\"\u001b[39m\n\u001b[0;32m     84\u001b[0m     )\n\u001b[0;32m     85\u001b[0m \u001b[38;5;28;01mimport\u001b[39;00m \u001b[38;5;21;01mpesq\u001b[39;00m \u001b[38;5;28;01mas\u001b[39;00m \u001b[38;5;21;01mpesq_backend\u001b[39;00m\n\u001b[0;32m     87\u001b[0m \u001b[38;5;28;01mif\u001b[39;00m fs \u001b[38;5;129;01mnot\u001b[39;00m \u001b[38;5;129;01min\u001b[39;00m (\u001b[38;5;241m8000\u001b[39m, \u001b[38;5;241m16000\u001b[39m):\n",
      "\u001b[1;31mModuleNotFoundError\u001b[0m: PESQ metric requires that pesq is installed. Either install as `pip install torchmetrics[audio]` or `pip install pesq`."
     ]
    }
   ],
   "source": [
    "import torchaudio\n",
    "import torch\n",
    "import torchmetrics\n",
    "import matplotlib.pyplot as plt\n",
    "from torch import randn\n",
    "from torchmetrics.functional.audio.pesq import perceptual_evaluation_speech_quality\n",
    "from torchaudio.utils import download_asset\n",
    "\n",
    "# Function to load audio and resample\n",
    "def load_and_resample_audio(file_path, target_sample_rate):\n",
    "    waveform, original_sample_rate = torchaudio.load(file_path)\n",
    "    resampler = torchaudio.transforms.Resample(original_sample_rate, target_sample_rate)\n",
    "    resampled_waveform = resampler(waveform)\n",
    "    return resampled_waveform, target_sample_rate\n",
    "\n",
    "# Function to compute STFT and return magnitude and phase\n",
    "def compute_stft(audio_waveform, sample_rate, n_fft=400, hop_length=160, win_length=400):\n",
    "    stft_transform = torchaudio.transforms.Spectrogram(n_fft=n_fft, hop_length=hop_length, win_length=win_length)\n",
    "    spectrogram = stft_transform(audio_waveform)\n",
    "    magnitude = torch.abs(spectrogram)\n",
    "    phase = torch.angle(spectrogram)\n",
    "    return magnitude, phase\n",
    "\n",
    "# Function to compute ISTFT and return reconstructed audio waveform\n",
    "def compute_istft(magnitude, phase, sample_rate, n_fft=400, hop_length=160, win_length=400):\n",
    "    # Reconstruct complex spectrogram\n",
    "    spectrogram_complex = magnitude * torch.exp(1j * phase)\n",
    "    \n",
    "    # Apply ISTFT using torch.istft\n",
    "    reconstructed_waveform = torch.istft(\n",
    "        spectrogram_complex, \n",
    "        n_fft=n_fft, \n",
    "        hop_length=hop_length, \n",
    "        win_length=win_length, \n",
    "        window=torch.hann_window(win_length),  # You can use other windows as well\n",
    "        center=True\n",
    "    )\n",
    "    \n",
    "    return reconstructed_waveform\n",
    "\n",
    "\n",
    "\n",
    "# Function to compare original and result audio waveforms\n",
    "def compare_audio(original_waveform, result_waveform):\n",
    "    assert original_waveform.shape == result_waveform.shape, \"Shapes of original and result waveforms must be the same.\"\n",
    "    mse_loss = torch.nn.MSELoss()\n",
    "    mse = mse_loss(original_waveform, result_waveform)\n",
    "    print(f\"Mean Squared Error (MSE): {mse.item()}\")\n",
    "\n",
    "# Function to calculate PESQ and STOI using torchmetrics\n",
    "def evaluate_audio(original_waveform, result_waveform, sample_rate):\n",
    "    \n",
    "\n",
    "# Assuming preds and target are PyTorch tensors\n",
    "    g = torch.manual_seed(1)\n",
    "    preds = randn(8000)\n",
    "    target = randn(8000)\n",
    "\n",
    "    # Compute PESQ scores\n",
    "    pesq_nb = perceptual_evaluation_speech_quality(preds, target, 8000, 'nb')\n",
    "    pesq_wb = perceptual_evaluation_speech_quality(preds, target, 16000, 'wb')\n",
    "\n",
    "    print(f\"PESQ Score (NB): {pesq_nb.item()}\")     \n",
    "    print(f\"PESQ Score (WB): {pesq_wb.item()}\")\n",
    "\n",
    "    stoi_metric = torchmetrics.audio.STOI(sample_rate)\n",
    "    \n",
    "    stoi_score = stoi_metric(result_waveform, original_waveform)\n",
    "    print(f\"STOI Score: {stoi_score.item()}\")\n",
    "\n",
    "# Sample WAV file path\n",
    "SAMPLE_WAV = download_asset(\"tutorial-assets/Lab41-SRI-VOiCES-src-sp0307-ch127535-sg0042.wav\")\n",
    "# Load and resample audio\n",
    "resampled_waveform, target_sample_rate = load_and_resample_audio(SAMPLE_WAV, 48000)\n",
    "\n",
    "# Compute STFT\n",
    "magnitude, phase = compute_stft(resampled_waveform, target_sample_rate)\n",
    "\n",
    "# Compute ISTFT\n",
    "reconstructed_waveform = compute_istft(magnitude, phase, target_sample_rate)\n",
    "\n",
    "# Compare original and result audio\n",
    "compare_audio(resampled_waveform, reconstructed_waveform)\n",
    "\n",
    "# Evaluate PESQ and STOI\n",
    "evaluate_audio(resampled_waveform, reconstructed_waveform, target_sample_rate)\n",
    "\n",
    "# Plot original and result waveforms\n",
    "plt.figure(figsize=(12, 4))\n",
    "plt.subplot(1, 2, 1)\n",
    "plt.plot(resampled_waveform[0].numpy())\n",
    "plt.title(\"Original Audio\")\n",
    "\n",
    "plt.subplot(1, 2, 2)\n",
    "plt.plot(reconstructed_waveform[0].numpy())\n",
    "plt.title(\"Reconstructed Audio\")\n",
    "\n",
    "plt.show()\n"
   ]
  },
  {
   "cell_type": "code",
   "execution_count": 8,
   "id": "8da1de18",
   "metadata": {},
   "outputs": [
    {
     "name": "stdout",
     "output_type": "stream",
     "text": [
      "Collecting pesq\n",
      "  Using cached pesq-0.0.4.tar.gz (38 kB)\n",
      "  Preparing metadata (setup.py): started\n",
      "  Preparing metadata (setup.py): finished with status 'done'\n",
      "Building wheels for collected packages: pesq\n",
      "  Building wheel for pesq (setup.py): started\n",
      "  Building wheel for pesq (setup.py): finished with status 'error'\n",
      "  Running setup.py clean for pesq\n",
      "Failed to build pesq\n",
      "Note: you may need to restart the kernel to use updated packages.\n"
     ]
    },
    {
     "name": "stderr",
     "output_type": "stream",
     "text": [
      "  error: subprocess-exited-with-error\n",
      "  \n",
      "  python setup.py bdist_wheel did not run successfully.\n",
      "  exit code: 1\n",
      "  \n",
      "  [26 lines of output]\n",
      "  C:\\Users\\Dell\\AppData\\Local\\Programs\\Python\\Python310\\lib\\site-packages\\setuptools\\installer.py:27: SetuptoolsDeprecationWarning: setuptools.installer is deprecated. Requirements should be satisfied by a PEP 517 installer.\n",
      "    warnings.warn(\n",
      "  running bdist_wheel\n",
      "  running build\n",
      "  running build_py\n",
      "  creating build\n",
      "  creating build\\lib.win-amd64-cpython-310\n",
      "  creating build\\lib.win-amd64-cpython-310\\pesq\n",
      "  copying pesq\\_pesq.py -> build\\lib.win-amd64-cpython-310\\pesq\n",
      "  copying pesq\\__init__.py -> build\\lib.win-amd64-cpython-310\\pesq\n",
      "  copying pesq\\cypesq.pyx -> build\\lib.win-amd64-cpython-310\\pesq\n",
      "  copying pesq\\dsp.h -> build\\lib.win-amd64-cpython-310\\pesq\n",
      "  copying pesq\\pesq.h -> build\\lib.win-amd64-cpython-310\\pesq\n",
      "  copying pesq\\pesqio.h -> build\\lib.win-amd64-cpython-310\\pesq\n",
      "  copying pesq\\pesqmain.h -> build\\lib.win-amd64-cpython-310\\pesq\n",
      "  copying pesq\\pesqpar.h -> build\\lib.win-amd64-cpython-310\\pesq\n",
      "  copying pesq\\dsp.c -> build\\lib.win-amd64-cpython-310\\pesq\n",
      "  copying pesq\\pesqdsp.c -> build\\lib.win-amd64-cpython-310\\pesq\n",
      "  copying pesq\\pesqmod.c -> build\\lib.win-amd64-cpython-310\\pesq\n",
      "  running build_ext\n",
      "  c:\\users\\dell\\appdata\\local\\temp\\pip-install-b_gl3y8n\\pesq_7565cd03d87e4b09a75ca8e0db3d1b7e\\.eggs\\cython-3.0.7-py3.10-win-amd64.egg\\Cython\\Compiler\\Main.py:381: FutureWarning: Cython directive 'language_level' not set, using '3str' for now (Py3). This has changed from earlier releases! File: C:\\Users\\Dell\\AppData\\Local\\Temp\\pip-install-b_gl3y8n\\pesq_7565cd03d87e4b09a75ca8e0db3d1b7e\\pesq\\cypesq.pyx\n",
      "    tree = Parsing.p_module(s, pxd, full_module_name)\n",
      "  Compiling pesq/cypesq.pyx because it changed.\n",
      "  [1/1] Cythonizing pesq/cypesq.pyx\n",
      "  building 'cypesq' extension\n",
      "  error: Microsoft Visual C++ 14.0 or greater is required. Get it with \"Microsoft C++ Build Tools\": https://visualstudio.microsoft.com/visual-cpp-build-tools/\n",
      "  [end of output]\n",
      "  \n",
      "  note: This error originates from a subprocess, and is likely not a problem with pip.\n",
      "  ERROR: Failed building wheel for pesq\n",
      "ERROR: Could not build wheels for pesq, which is required to install pyproject.toml-based projects\n",
      "\n",
      "[notice] A new release of pip is available: 23.3.1 -> 23.3.2\n",
      "[notice] To update, run: C:\\Users\\Dell\\AppData\\Local\\Programs\\Python\\Python310\\python.exe -m pip install --upgrade pip\n"
     ]
    }
   ],
   "source": [
    "pip install pesq"
   ]
  },
  {
   "cell_type": "code",
   "execution_count": 9,
   "id": "c59c805b",
   "metadata": {},
   "outputs": [
    {
     "name": "stdout",
     "output_type": "stream",
     "text": [
      "Collecting manimce\n",
      "  Downloading manimce-0.1.1.post2-py3-none-any.whl (249 kB)\n",
      "     -------------------------------------- 249.7/249.7 kB 1.5 MB/s eta 0:00:00\n",
      "Requirement already satisfied: Pillow in c:\\users\\dell\\appdata\\local\\programs\\python\\python310\\lib\\site-packages (from manimce) (9.2.0)\n",
      "Collecting cairocffi<2.0.0,>=1.1.0 (from manimce)\n",
      "  Downloading cairocffi-1.6.1-py3-none-any.whl.metadata (3.3 kB)\n",
      "Collecting colour (from manimce)\n",
      "  Downloading colour-0.1.5-py2.py3-none-any.whl (23 kB)\n",
      "Requirement already satisfied: numpy in c:\\users\\dell\\appdata\\local\\programs\\python\\python310\\lib\\site-packages (from manimce) (1.23.4)\n",
      "Collecting pangocairocffi<0.5.0,>=0.4.0 (from manimce)\n",
      "  Downloading pangocairocffi-0.4.0.tar.gz (17 kB)\n",
      "  Preparing metadata (setup.py): started\n",
      "  Preparing metadata (setup.py): finished with status 'done'\n",
      "Collecting pangocffi<0.9.0,>=0.8.0 (from manimce)\n",
      "  Downloading pangocffi-0.8.0.tar.gz (33 kB)\n",
      "  Preparing metadata (setup.py): started\n",
      "  Preparing metadata (setup.py): finished with status 'done'\n",
      "Collecting progressbar (from manimce)\n",
      "  Downloading progressbar-2.5.tar.gz (10 kB)\n",
      "  Preparing metadata (setup.py): started\n",
      "  Preparing metadata (setup.py): finished with status 'done'\n",
      "Collecting pycairo<2.0,>=1.19 (from manimce)\n",
      "  Downloading pycairo-1.25.1-cp310-cp310-win_amd64.whl.metadata (2.8 kB)\n",
      "Collecting pydub (from manimce)\n",
      "  Downloading pydub-0.25.1-py2.py3-none-any.whl (32 kB)\n",
      "Requirement already satisfied: pygments in c:\\users\\dell\\appdata\\local\\programs\\python\\python310\\lib\\site-packages (from manimce) (2.13.0)\n",
      "Collecting rich<7.0,>=6.0 (from manimce)\n",
      "  Downloading rich-6.2.0-py3-none-any.whl (150 kB)\n",
      "     -------------------------------------- 150.0/150.0 kB 3.0 MB/s eta 0:00:00\n",
      "Requirement already satisfied: scipy in c:\\users\\dell\\appdata\\local\\programs\\python\\python310\\lib\\site-packages (from manimce) (1.9.3)\n",
      "Requirement already satisfied: tqdm in c:\\users\\dell\\appdata\\local\\programs\\python\\python310\\lib\\site-packages (from manimce) (4.64.1)\n",
      "Requirement already satisfied: cffi>=1.1.0 in c:\\users\\dell\\appdata\\local\\programs\\python\\python310\\lib\\site-packages (from cairocffi<2.0.0,>=1.1.0->manimce) (1.15.1)\n",
      "Requirement already satisfied: colorama<0.5.0,>=0.4.0 in c:\\users\\dell\\appdata\\local\\programs\\python\\python310\\lib\\site-packages (from rich<7.0,>=6.0->manimce) (0.4.6)\n",
      "Requirement already satisfied: commonmark<0.10.0,>=0.9.0 in c:\\users\\dell\\appdata\\local\\programs\\python\\python310\\lib\\site-packages (from rich<7.0,>=6.0->manimce) (0.9.1)\n",
      "Collecting typing-extensions<4.0.0,>=3.7.4 (from rich<7.0,>=6.0->manimce)\n",
      "  Downloading typing_extensions-3.10.0.2-py3-none-any.whl (26 kB)\n",
      "Requirement already satisfied: pycparser in c:\\users\\dell\\appdata\\local\\programs\\python\\python310\\lib\\site-packages (from cffi>=1.1.0->cairocffi<2.0.0,>=1.1.0->manimce) (2.21)\n",
      "Downloading cairocffi-1.6.1-py3-none-any.whl (75 kB)\n",
      "   ---------------------------------------- 75.1/75.1 kB 2.1 MB/s eta 0:00:00\n",
      "Downloading pycairo-1.25.1-cp310-cp310-win_amd64.whl (877 kB)\n",
      "   ---------------------------------------- 877.2/877.2 kB 2.5 MB/s eta 0:00:00\n",
      "Building wheels for collected packages: pangocairocffi, pangocffi, progressbar\n",
      "  Building wheel for pangocairocffi (setup.py): started\n",
      "  Building wheel for pangocairocffi (setup.py): finished with status 'done'\n",
      "  Created wheel for pangocairocffi: filename=pangocairocffi-0.4.0-py3-none-any.whl size=19302 sha256=4526510894847db76f6abd9149d1a7fe46a58146ec972b7d2b8932246c4b469f\n",
      "  Stored in directory: c:\\users\\dell\\appdata\\local\\pip\\cache\\wheels\\98\\39\\39\\48f31c814057ce8da1c7d990682b390aecd6b0acf283a9a23b\n",
      "  Building wheel for pangocffi (setup.py): started\n",
      "  Building wheel for pangocffi (setup.py): finished with status 'done'\n",
      "  Created wheel for pangocffi: filename=pangocffi-0.8.0-py3-none-any.whl size=37913 sha256=3d4f63ac2f0dc344a043d1d879af18ffb3cf9053d842fac1c8de04fe48060cda\n",
      "  Stored in directory: c:\\users\\dell\\appdata\\local\\pip\\cache\\wheels\\57\\27\\f7\\bf7425fec6939118997b697fa2c4a5a251a3c41aba92509147\n",
      "  Building wheel for progressbar (setup.py): started\n",
      "  Building wheel for progressbar (setup.py): finished with status 'done'\n",
      "  Created wheel for progressbar: filename=progressbar-2.5-py3-none-any.whl size=12084 sha256=11fd1cb8fe28641c8a7a4d1db5a5b3fdc10844c2dfc7068b512ffd4280126e41\n",
      "  Stored in directory: c:\\users\\dell\\appdata\\local\\pip\\cache\\wheels\\cd\\17\\e5\\765d1a3112ff3978f70223502f6047e06c43a24d7c5f8ff95b\n",
      "Successfully built pangocairocffi pangocffi progressbar\n",
      "Installing collected packages: typing-extensions, pydub, progressbar, colour, rich, pycairo, pangocffi, cairocffi, pangocairocffi, manimce\n",
      "  Attempting uninstall: typing-extensions\n",
      "    Found existing installation: typing_extensions 4.8.0\n",
      "    Uninstalling typing_extensions-4.8.0:\n",
      "      Successfully uninstalled typing_extensions-4.8.0\n",
      "  Attempting uninstall: rich\n",
      "    Found existing installation: rich 12.6.0\n",
      "    Uninstalling rich-12.6.0:\n",
      "      Successfully uninstalled rich-12.6.0\n",
      "Successfully installed cairocffi-1.6.1 colour-0.1.5 manimce-0.1.1.post2 pangocairocffi-0.4.0 pangocffi-0.8.0 progressbar-2.5 pycairo-1.25.1 pydub-0.25.1 rich-6.2.0 typing-extensions-3.10.0.2\n",
      "Note: you may need to restart the kernel to use updated packages.\n"
     ]
    },
    {
     "name": "stderr",
     "output_type": "stream",
     "text": [
      "ERROR: pip's dependency resolver does not currently take into account all the packages that are installed. This behaviour is the source of the following dependency conflicts.\n",
      "fastapi 0.104.0 requires typing-extensions>=4.8.0, but you have typing-extensions 3.10.0.2 which is incompatible.\n",
      "librosa 0.10.1 requires typing-extensions>=4.1.1, but you have typing-extensions 3.10.0.2 which is incompatible.\n",
      "pydantic 1.10.5 requires typing-extensions>=4.2.0, but you have typing-extensions 3.10.0.2 which is incompatible.\n",
      "streamlit 1.14.1 requires rich>=10.11.0, but you have rich 6.2.0 which is incompatible.\n",
      "tensorflow 2.10.0 requires protobuf<3.20,>=3.9.2, but you have protobuf 3.20.2 which is incompatible.\n",
      "tf-nightly-intel 2.13.0.dev20230325 requires protobuf!=4.21.0,!=4.21.1,!=4.21.2,!=4.21.3,!=4.21.4,!=4.21.5,<5.0.0dev,>=3.20.3, but you have protobuf 3.20.2 which is incompatible.\n",
      "uvicorn 0.23.2 requires typing-extensions>=4.0; python_version < \"3.11\", but you have typing-extensions 3.10.0.2 which is incompatible.\n",
      "\n",
      "[notice] A new release of pip is available: 23.3.1 -> 23.3.2\n",
      "[notice] To update, run: C:\\Users\\Dell\\AppData\\Local\\Programs\\Python\\Python310\\python.exe -m pip install --upgrade pip\n"
     ]
    }
   ],
   "source": [
    "pip install manimce"
   ]
  },
  {
   "cell_type": "code",
   "execution_count": null,
   "id": "fdc949fc",
   "metadata": {},
   "outputs": [],
   "source": []
  }
 ],
 "metadata": {
  "kernelspec": {
   "display_name": "Python 3 (ipykernel)",
   "language": "python",
   "name": "python3"
  },
  "language_info": {
   "codemirror_mode": {
    "name": "ipython",
    "version": 3
   },
   "file_extension": ".py",
   "mimetype": "text/x-python",
   "name": "python",
   "nbconvert_exporter": "python",
   "pygments_lexer": "ipython3",
   "version": "3.10.8"
  }
 },
 "nbformat": 4,
 "nbformat_minor": 5
}
